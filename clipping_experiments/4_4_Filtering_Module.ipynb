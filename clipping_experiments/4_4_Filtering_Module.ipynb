{
 "cells": [
  {
   "cell_type": "markdown",
   "id": "0518015a",
   "metadata": {},
   "source": [
    "# Experiment 4.4: Filtering Module"
   ]
  },
  {
   "cell_type": "markdown",
   "id": "e38525fc",
   "metadata": {},
   "source": [
    "## 1. Enviornment\n",
    "\n",
    "In the following cell, change assign WD the path to the BMT-Clipping repository. \n",
    "Additionally, assign the path to your environments directory (e.g. where conda stores all directories) to the ENVS_PATH variable."
   ]
  },
  {
   "cell_type": "code",
   "execution_count": 1,
   "id": "c3234f13",
   "metadata": {},
   "outputs": [
    {
     "name": "stdout",
     "output_type": "stream",
     "text": [
      "/home/A01630791/BMT-Clipping\n"
     ]
    }
   ],
   "source": [
    "# Working directory (it must be the repository's root directory)\n",
    "WD = '/home/A01630791/BMT-Clipping'\n",
    "%cd $WD\n",
    "\n",
    "# Environments directory (e.g. anaconda3/envs)\n",
    "ENVS_PATH = '/home/A01630791/anaconda3/envs'"
   ]
  },
  {
   "cell_type": "markdown",
   "id": "260c1159",
   "metadata": {},
   "source": [
    "**Module imports**"
   ]
  },
  {
   "cell_type": "code",
   "execution_count": 2,
   "id": "6ea01c1c",
   "metadata": {},
   "outputs": [],
   "source": [
    "from clipping_modules.filtering import FilteringModule\n",
    "from clipping_modules.clipping import ClippingModule"
   ]
  },
  {
   "cell_type": "markdown",
   "id": "c00295ed",
   "metadata": {},
   "source": [
    "**Other imports**"
   ]
  },
  {
   "cell_type": "code",
   "execution_count": 3,
   "id": "e79c2f8e",
   "metadata": {},
   "outputs": [],
   "source": [
    "import json, re, collections\n",
    "import numpy as np\n",
    "import pandas as pd\n",
    "import matplotlib.pyplot as plt\n",
    "from pytube import YouTube"
   ]
  },
  {
   "cell_type": "markdown",
   "id": "74024e11",
   "metadata": {},
   "source": [
    "## 2. Importing the dataset\n",
    "\n",
    "We will be importing two files:\n",
    "- output from BMT with fixed-window clipping\n",
    "- output from BMT with scene-detection clipping"
   ]
  },
  {
   "cell_type": "markdown",
   "id": "c9d9d039",
   "metadata": {},
   "source": [
    "**Fixed-window clipping**"
   ]
  },
  {
   "cell_type": "code",
   "execution_count": 4,
   "id": "aa2b184d",
   "metadata": {},
   "outputs": [
    {
     "data": {
      "text/html": [
       "<div>\n",
       "<style scoped>\n",
       "    .dataframe tbody tr th:only-of-type {\n",
       "        vertical-align: middle;\n",
       "    }\n",
       "\n",
       "    .dataframe tbody tr th {\n",
       "        vertical-align: top;\n",
       "    }\n",
       "\n",
       "    .dataframe thead th {\n",
       "        text-align: right;\n",
       "    }\n",
       "</style>\n",
       "<table border=\"1\" class=\"dataframe\">\n",
       "  <thead>\n",
       "    <tr style=\"text-align: right;\">\n",
       "      <th></th>\n",
       "      <th>captions</th>\n",
       "      <th>clip_id</th>\n",
       "      <th>duration</th>\n",
       "      <th>video_id</th>\n",
       "      <th>number_captions</th>\n",
       "    </tr>\n",
       "  </thead>\n",
       "  <tbody>\n",
       "    <tr>\n",
       "      <th>0</th>\n",
       "      <td>[{'start': 0.5, 'end': 16.1, 'sentence': 'A pe...</td>\n",
       "      <td>120</td>\n",
       "      <td>34.935</td>\n",
       "      <td>zvSbF0dKQM8</td>\n",
       "      <td>2</td>\n",
       "    </tr>\n",
       "    <tr>\n",
       "      <th>1</th>\n",
       "      <td>[{'start': 0.0, 'end': 31.7, 'sentence': 'A pe...</td>\n",
       "      <td>180</td>\n",
       "      <td>34.877</td>\n",
       "      <td>zvSbF0dKQM8</td>\n",
       "      <td>2</td>\n",
       "    </tr>\n",
       "    <tr>\n",
       "      <th>2</th>\n",
       "      <td>[{'start': 0.4, 'end': 28.7, 'sentence': 'A ma...</td>\n",
       "      <td>240</td>\n",
       "      <td>34.807</td>\n",
       "      <td>zvSbF0dKQM8</td>\n",
       "      <td>3</td>\n",
       "    </tr>\n",
       "    <tr>\n",
       "      <th>3</th>\n",
       "      <td>[{'start': 28.6, 'end': 29.0, 'sentence': 'A m...</td>\n",
       "      <td>270</td>\n",
       "      <td>34.802</td>\n",
       "      <td>zvSbF0dKQM8</td>\n",
       "      <td>5</td>\n",
       "    </tr>\n",
       "    <tr>\n",
       "      <th>4</th>\n",
       "      <td>[{'start': 28.4, 'end': 30.0, 'sentence': 'A m...</td>\n",
       "      <td>330</td>\n",
       "      <td>34.735</td>\n",
       "      <td>zvSbF0dKQM8</td>\n",
       "      <td>5</td>\n",
       "    </tr>\n",
       "  </tbody>\n",
       "</table>\n",
       "</div>"
      ],
      "text/plain": [
       "                                            captions  clip_id  duration  \\\n",
       "0  [{'start': 0.5, 'end': 16.1, 'sentence': 'A pe...      120    34.935   \n",
       "1  [{'start': 0.0, 'end': 31.7, 'sentence': 'A pe...      180    34.877   \n",
       "2  [{'start': 0.4, 'end': 28.7, 'sentence': 'A ma...      240    34.807   \n",
       "3  [{'start': 28.6, 'end': 29.0, 'sentence': 'A m...      270    34.802   \n",
       "4  [{'start': 28.4, 'end': 30.0, 'sentence': 'A m...      330    34.735   \n",
       "\n",
       "      video_id  number_captions  \n",
       "0  zvSbF0dKQM8                2  \n",
       "1  zvSbF0dKQM8                2  \n",
       "2  zvSbF0dKQM8                3  \n",
       "3  zvSbF0dKQM8                5  \n",
       "4  zvSbF0dKQM8                5  "
      ]
     },
     "execution_count": 4,
     "metadata": {},
     "output_type": "execute_result"
    }
   ],
   "source": [
    "# fixed-window clipping\n",
    "FT_OUTPUT_PATH = '/home/A01630791/bmt_clipping_experiments/Output_4_3/4_3_bmt_captions_save.json'\n",
    "\n",
    "ft_output = pd.read_json(FT_OUTPUT_PATH, orient='records')\n",
    "ft_output['number_captions'] = [len(sample.captions) for index, sample in ft_output.iterrows()]\n",
    "ft_output.head()"
   ]
  },
  {
   "cell_type": "code",
   "execution_count": 5,
   "id": "12df3074",
   "metadata": {},
   "outputs": [
    {
     "data": {
      "text/plain": [
       "video_id\n",
       "0RqBZlDur5k    130\n",
       "0dyQouKDR2M    125\n",
       "3X7OqTDi8NQ    147\n",
       "3oWlYHKMyv8    141\n",
       "BM-QYaXThUg    125\n",
       "DAlNWRjXY4A     87\n",
       "FJ64K9QdwDU    173\n",
       "LlBedonOnR0    143\n",
       "_VWAFXFRTcA    153\n",
       "zvSbF0dKQM8    137\n",
       "Name: number_captions_no_filtering, dtype: int64"
      ]
     },
     "execution_count": 5,
     "metadata": {},
     "output_type": "execute_result"
    }
   ],
   "source": [
    "# Obtain number of captions (add no. of captions of every clip together)\n",
    "ft_num_captions_no_filtering = ft_output.groupby(by=\"video_id\").number_captions.sum()\n",
    "ft_num_captions_no_filtering.rename(\"number_captions_no_filtering\", inplace=True)"
   ]
  },
  {
   "cell_type": "markdown",
   "id": "5fee01a6",
   "metadata": {},
   "source": [
    "**Scene detection clipping**"
   ]
  },
  {
   "cell_type": "code",
   "execution_count": 6,
   "id": "cfe85b55",
   "metadata": {},
   "outputs": [
    {
     "data": {
      "text/html": [
       "<div>\n",
       "<style scoped>\n",
       "    .dataframe tbody tr th:only-of-type {\n",
       "        vertical-align: middle;\n",
       "    }\n",
       "\n",
       "    .dataframe tbody tr th {\n",
       "        vertical-align: top;\n",
       "    }\n",
       "\n",
       "    .dataframe thead th {\n",
       "        text-align: right;\n",
       "    }\n",
       "</style>\n",
       "<table border=\"1\" class=\"dataframe\">\n",
       "  <thead>\n",
       "    <tr style=\"text-align: right;\">\n",
       "      <th></th>\n",
       "      <th>captions</th>\n",
       "      <th>clip_id</th>\n",
       "      <th>duration</th>\n",
       "      <th>video_id</th>\n",
       "      <th>number_captions</th>\n",
       "    </tr>\n",
       "  </thead>\n",
       "  <tbody>\n",
       "    <tr>\n",
       "      <th>0</th>\n",
       "      <td>[{'start': 0.0, 'end': 2.1, 'sentence': 'A man...</td>\n",
       "      <td>1</td>\n",
       "      <td>15.057</td>\n",
       "      <td>DAlNWRjXY4A</td>\n",
       "      <td>3</td>\n",
       "    </tr>\n",
       "    <tr>\n",
       "      <th>1</th>\n",
       "      <td>[{'start': 0.0, 'end': 1.8, 'sentence': 'A wom...</td>\n",
       "      <td>2</td>\n",
       "      <td>12.690</td>\n",
       "      <td>DAlNWRjXY4A</td>\n",
       "      <td>2</td>\n",
       "    </tr>\n",
       "    <tr>\n",
       "      <th>2</th>\n",
       "      <td>[{'start': 0.4, 'end': 1.8, 'sentence': 'A wom...</td>\n",
       "      <td>3</td>\n",
       "      <td>4.390</td>\n",
       "      <td>DAlNWRjXY4A</td>\n",
       "      <td>2</td>\n",
       "    </tr>\n",
       "    <tr>\n",
       "      <th>3</th>\n",
       "      <td>[{'start': 0.0, 'end': 3.7, 'sentence': 'A per...</td>\n",
       "      <td>4</td>\n",
       "      <td>45.657</td>\n",
       "      <td>DAlNWRjXY4A</td>\n",
       "      <td>3</td>\n",
       "    </tr>\n",
       "    <tr>\n",
       "      <th>4</th>\n",
       "      <td>[{'start': 0.0, 'end': 2.1, 'sentence': 'A per...</td>\n",
       "      <td>7</td>\n",
       "      <td>4.890</td>\n",
       "      <td>DAlNWRjXY4A</td>\n",
       "      <td>2</td>\n",
       "    </tr>\n",
       "  </tbody>\n",
       "</table>\n",
       "</div>"
      ],
      "text/plain": [
       "                                            captions  clip_id  duration  \\\n",
       "0  [{'start': 0.0, 'end': 2.1, 'sentence': 'A man...        1    15.057   \n",
       "1  [{'start': 0.0, 'end': 1.8, 'sentence': 'A wom...        2    12.690   \n",
       "2  [{'start': 0.4, 'end': 1.8, 'sentence': 'A wom...        3     4.390   \n",
       "3  [{'start': 0.0, 'end': 3.7, 'sentence': 'A per...        4    45.657   \n",
       "4  [{'start': 0.0, 'end': 2.1, 'sentence': 'A per...        7     4.890   \n",
       "\n",
       "      video_id  number_captions  \n",
       "0  DAlNWRjXY4A                3  \n",
       "1  DAlNWRjXY4A                2  \n",
       "2  DAlNWRjXY4A                2  \n",
       "3  DAlNWRjXY4A                3  \n",
       "4  DAlNWRjXY4A                2  "
      ]
     },
     "execution_count": 6,
     "metadata": {},
     "output_type": "execute_result"
    }
   ],
   "source": [
    "# scene detection clipping\n",
    "SD_OUTPUT_PATH = '/home/A01630791/bmt_clipping_experiments/Output_4_3/4_3_bmt_captions_ps_save.json'\n",
    "\n",
    "sd_output = pd.read_json(SD_OUTPUT_PATH, orient='records')\n",
    "sd_output['number_captions'] = [len(sample.captions) for index, sample in sd_output.iterrows()]\n",
    "sd_output.head()"
   ]
  },
  {
   "cell_type": "code",
   "execution_count": 7,
   "id": "3ca18fd6",
   "metadata": {},
   "outputs": [
    {
     "data": {
      "text/plain": [
       "video_id\n",
       "0RqBZlDur5k     34\n",
       "0dyQouKDR2M    323\n",
       "3X7OqTDi8NQ    436\n",
       "3oWlYHKMyv8     20\n",
       "DAlNWRjXY4A     62\n",
       "FJ64K9QdwDU      5\n",
       "LlBedonOnR0    238\n",
       "_VWAFXFRTcA     43\n",
       "Name: number_captions_no_filtering, dtype: int64"
      ]
     },
     "execution_count": 7,
     "metadata": {},
     "output_type": "execute_result"
    }
   ],
   "source": [
    "# Obtain number of captions (add no. of captions of every clip together)\n",
    "sd_num_captions_no_filtering = sd_output.groupby(by=\"video_id\").number_captions.sum()\n",
    "sd_num_captions_no_filtering.rename(\"number_captions_no_filtering\", inplace=True)"
   ]
  },
  {
   "cell_type": "markdown",
   "id": "84f4edfd",
   "metadata": {},
   "source": [
    "We observe two `video_id`s are missing when compared to fixed-window-clipping's results (`BM-QYaXThUg` and `zvSbF0dKQM8`). These videos were not converted into subclips by the clipping module because no scene changes were found."
   ]
  },
  {
   "cell_type": "markdown",
   "id": "54fff9d3",
   "metadata": {},
   "source": [
    "## 3. Filtering (fixed-window clipping results)"
   ]
  },
  {
   "cell_type": "code",
   "execution_count": 8,
   "id": "e0548cc4",
   "metadata": {},
   "outputs": [],
   "source": [
    "# filtering module instance\n",
    "fm = FilteringModule()"
   ]
  },
  {
   "cell_type": "code",
   "execution_count": 102,
   "id": "030dbdd7",
   "metadata": {},
   "outputs": [],
   "source": [
    "# define the output path 1 (fixed window)\n",
    "FM_OUTPUT_PATH_1 = '/home/A01630791/bmt_clipping_experiments/Output_4_4/4_4_filtered_captions1.json'\n",
    "\n",
    "with open(FM_OUTPUT_PATH_1, 'w') as f:\n",
    "    # f.write('[]')\n",
    "    pass"
   ]
  },
  {
   "cell_type": "code",
   "execution_count": 13,
   "id": "84df4c54",
   "metadata": {},
   "outputs": [],
   "source": [
    "# filter file\n",
    "fm.filter_file(\n",
    "    input_path=FT_OUTPUT_PATH,\n",
    "    output_path=FM_OUTPUT_PATH_1,\n",
    "    tiempo=120\n",
    ")"
   ]
  },
  {
   "cell_type": "code",
   "execution_count": 129,
   "id": "d0914b3f",
   "metadata": {},
   "outputs": [
    {
     "data": {
      "text/html": [
       "<div>\n",
       "<style scoped>\n",
       "    .dataframe tbody tr th:only-of-type {\n",
       "        vertical-align: middle;\n",
       "    }\n",
       "\n",
       "    .dataframe tbody tr th {\n",
       "        vertical-align: top;\n",
       "    }\n",
       "\n",
       "    .dataframe thead th {\n",
       "        text-align: right;\n",
       "    }\n",
       "</style>\n",
       "<table border=\"1\" class=\"dataframe\">\n",
       "  <thead>\n",
       "    <tr style=\"text-align: right;\">\n",
       "      <th></th>\n",
       "      <th>captions</th>\n",
       "      <th>duration</th>\n",
       "      <th>video_id</th>\n",
       "      <th>number_captions_no_filtering</th>\n",
       "    </tr>\n",
       "  </thead>\n",
       "  <tbody>\n",
       "    <tr>\n",
       "      <th>0</th>\n",
       "      <td>[{'start': 3600.0, 'end': 3616.1, 'sentence': ...</td>\n",
       "      <td>1116.592</td>\n",
       "      <td>zvSbF0dKQM8</td>\n",
       "      <td>137</td>\n",
       "    </tr>\n",
       "    <tr>\n",
       "      <th>1</th>\n",
       "      <td>[{'start': 43228.0, 'end': 43229.8, 'sentence'...</td>\n",
       "      <td>1180.979</td>\n",
       "      <td>0RqBZlDur5k</td>\n",
       "      <td>130</td>\n",
       "    </tr>\n",
       "    <tr>\n",
       "      <th>2</th>\n",
       "      <td>[{'start': 111616.4, 'end': 111621.5, 'sentenc...</td>\n",
       "      <td>1035.102</td>\n",
       "      <td>DAlNWRjXY4A</td>\n",
       "      <td>87</td>\n",
       "    </tr>\n",
       "    <tr>\n",
       "      <th>3</th>\n",
       "      <td>[{'start': 104400.1, 'end': 104410.1, 'sentenc...</td>\n",
       "      <td>1101.893</td>\n",
       "      <td>_VWAFXFRTcA</td>\n",
       "      <td>153</td>\n",
       "    </tr>\n",
       "    <tr>\n",
       "      <th>4</th>\n",
       "      <td>[{'start': 43228.6, 'end': 43230.1, 'sentence'...</td>\n",
       "      <td>1235.941</td>\n",
       "      <td>0dyQouKDR2M</td>\n",
       "      <td>125</td>\n",
       "    </tr>\n",
       "  </tbody>\n",
       "</table>\n",
       "</div>"
      ],
      "text/plain": [
       "                                            captions  duration     video_id  \\\n",
       "0  [{'start': 3600.0, 'end': 3616.1, 'sentence': ...  1116.592  zvSbF0dKQM8   \n",
       "1  [{'start': 43228.0, 'end': 43229.8, 'sentence'...  1180.979  0RqBZlDur5k   \n",
       "2  [{'start': 111616.4, 'end': 111621.5, 'sentenc...  1035.102  DAlNWRjXY4A   \n",
       "3  [{'start': 104400.1, 'end': 104410.1, 'sentenc...  1101.893  _VWAFXFRTcA   \n",
       "4  [{'start': 43228.6, 'end': 43230.1, 'sentence'...  1235.941  0dyQouKDR2M   \n",
       "\n",
       "   number_captions_no_filtering  \n",
       "0                           137  \n",
       "1                           130  \n",
       "2                            87  \n",
       "3                           153  \n",
       "4                           125  "
      ]
     },
     "execution_count": 129,
     "metadata": {},
     "output_type": "execute_result"
    }
   ],
   "source": [
    "fm_results_df = pd.read_json(FM_OUTPUT_PATH_1, orient='records')\n",
    "fm_results_df = pd.merge(\n",
    "    how=\"left\", \n",
    "    left=fm_results_df, \n",
    "    right=ft_num_captions_no_filtering, \n",
    "    left_on='video_id', \n",
    "    right_on='video_id',\n",
    ")\n",
    "fm_results_df.head()"
   ]
  },
  {
   "cell_type": "code",
   "execution_count": 130,
   "id": "336c33e7",
   "metadata": {},
   "outputs": [],
   "source": [
    "fm_results_df['number_captions'] = [len(sample.captions) for index, sample in fm_results_df.iterrows()]"
   ]
  },
  {
   "cell_type": "code",
   "execution_count": 131,
   "id": "880f384c",
   "metadata": {},
   "outputs": [],
   "source": [
    "average_clip_captions = ft_output.groupby(by='video_id').number_captions.mean()\n",
    "average_clip_captions.rename(\"avg_clip_captions\", inplace=True)\n",
    "fm_results_df = pd.merge(fm_results_df, average_clip_captions, how='left', on='video_id')"
   ]
  },
  {
   "cell_type": "code",
   "execution_count": 132,
   "id": "18b2d7c5",
   "metadata": {
    "scrolled": true
   },
   "outputs": [
    {
     "data": {
      "text/html": [
       "<div>\n",
       "<style scoped>\n",
       "    .dataframe tbody tr th:only-of-type {\n",
       "        vertical-align: middle;\n",
       "    }\n",
       "\n",
       "    .dataframe tbody tr th {\n",
       "        vertical-align: top;\n",
       "    }\n",
       "\n",
       "    .dataframe thead th {\n",
       "        text-align: right;\n",
       "    }\n",
       "</style>\n",
       "<table border=\"1\" class=\"dataframe\">\n",
       "  <thead>\n",
       "    <tr style=\"text-align: right;\">\n",
       "      <th></th>\n",
       "      <th>captions</th>\n",
       "      <th>duration</th>\n",
       "      <th>video_id</th>\n",
       "      <th>number_captions_no_filtering</th>\n",
       "      <th>number_captions</th>\n",
       "      <th>avg_clip_captions</th>\n",
       "    </tr>\n",
       "  </thead>\n",
       "  <tbody>\n",
       "    <tr>\n",
       "      <th>2</th>\n",
       "      <td>[{'start': 111616.4, 'end': 111621.5, 'sentenc...</td>\n",
       "      <td>1035.102</td>\n",
       "      <td>DAlNWRjXY4A</td>\n",
       "      <td>87</td>\n",
       "      <td>47</td>\n",
       "      <td>2.718750</td>\n",
       "    </tr>\n",
       "    <tr>\n",
       "      <th>3</th>\n",
       "      <td>[{'start': 104400.1, 'end': 104410.1, 'sentenc...</td>\n",
       "      <td>1101.893</td>\n",
       "      <td>_VWAFXFRTcA</td>\n",
       "      <td>153</td>\n",
       "      <td>50</td>\n",
       "      <td>4.250000</td>\n",
       "    </tr>\n",
       "    <tr>\n",
       "      <th>0</th>\n",
       "      <td>[{'start': 3600.0, 'end': 3616.1, 'sentence': ...</td>\n",
       "      <td>1116.592</td>\n",
       "      <td>zvSbF0dKQM8</td>\n",
       "      <td>137</td>\n",
       "      <td>72</td>\n",
       "      <td>4.151515</td>\n",
       "    </tr>\n",
       "    <tr>\n",
       "      <th>1</th>\n",
       "      <td>[{'start': 43228.0, 'end': 43229.8, 'sentence'...</td>\n",
       "      <td>1180.979</td>\n",
       "      <td>0RqBZlDur5k</td>\n",
       "      <td>130</td>\n",
       "      <td>85</td>\n",
       "      <td>3.513514</td>\n",
       "    </tr>\n",
       "    <tr>\n",
       "      <th>4</th>\n",
       "      <td>[{'start': 43228.6, 'end': 43230.1, 'sentence'...</td>\n",
       "      <td>1235.941</td>\n",
       "      <td>0dyQouKDR2M</td>\n",
       "      <td>125</td>\n",
       "      <td>66</td>\n",
       "      <td>3.289474</td>\n",
       "    </tr>\n",
       "  </tbody>\n",
       "</table>\n",
       "</div>"
      ],
      "text/plain": [
       "                                            captions  duration     video_id  \\\n",
       "2  [{'start': 111616.4, 'end': 111621.5, 'sentenc...  1035.102  DAlNWRjXY4A   \n",
       "3  [{'start': 104400.1, 'end': 104410.1, 'sentenc...  1101.893  _VWAFXFRTcA   \n",
       "0  [{'start': 3600.0, 'end': 3616.1, 'sentence': ...  1116.592  zvSbF0dKQM8   \n",
       "1  [{'start': 43228.0, 'end': 43229.8, 'sentence'...  1180.979  0RqBZlDur5k   \n",
       "4  [{'start': 43228.6, 'end': 43230.1, 'sentence'...  1235.941  0dyQouKDR2M   \n",
       "\n",
       "   number_captions_no_filtering  number_captions  avg_clip_captions  \n",
       "2                            87               47           2.718750  \n",
       "3                           153               50           4.250000  \n",
       "0                           137               72           4.151515  \n",
       "1                           130               85           3.513514  \n",
       "4                           125               66           3.289474  "
      ]
     },
     "execution_count": 132,
     "metadata": {},
     "output_type": "execute_result"
    }
   ],
   "source": [
    "fm_results_df.sort_values(by='duration', inplace=True)\n",
    "fm_results_df.head()"
   ]
  },
  {
   "cell_type": "code",
   "execution_count": 153,
   "id": "24afe967",
   "metadata": {},
   "outputs": [
    {
     "data": {
      "text/plain": [
       "49.601379087571885"
      ]
     },
     "execution_count": 153,
     "metadata": {},
     "output_type": "execute_result"
    }
   ],
   "source": [
    "# mean decrease\n",
    "diff_captions = fm_results_df.number_captions_no_filtering - fm_results_df.number_captions\n",
    "diff_captions_percentage = diff_captions / fm_results_df.number_captions_no_filtering * 100\n",
    "diff_captions_percentage.mean()"
   ]
  },
  {
   "cell_type": "code",
   "execution_count": 158,
   "id": "f21b7757",
   "metadata": {},
   "outputs": [
    {
     "data": {
      "text/plain": [
       "(-1, 10)"
      ]
     },
     "execution_count": 158,
     "metadata": {},
     "output_type": "execute_result"
    },
    {
     "data": {
      "image/png": "[encoded data removed]",
      "text/plain": [
       "<Figure size 640x480 with 1 Axes>"
      ]
     },
     "metadata": {},
     "output_type": "display_data"
    }
   ],
   "source": [
    "ax = fm_results_df.plot(kind=\"bar\", x=\"video_id\", y=\"number_captions_no_filtering\", color=\"lightgray\", rot=90)\n",
    "fm_results_df.plot(kind=\"bar\", x=\"video_id\", y=\"number_captions\", rot=90, ax=ax)\n",
    "fm_results_df.plot(kind=\"line\", x=\"video_id\", y=\"avg_clip_captions\", color=\"red\", marker='o', ax=ax, rot=90)\n",
    "ax.legend([\n",
    "    'Average captions in subclip', \n",
    "    'Number of BMT-generated captions with clipping', \n",
    "    'Number of BMT-generated captions after filtering'\n",
    "])\n",
    "ax.set_xlabel('Video ID')\n",
    "ax.set_xlim(-1, 10)"
   ]
  },
  {
   "cell_type": "code",
   "execution_count": 154,
   "id": "523e5e5a",
   "metadata": {},
   "outputs": [],
   "source": [
    "PLOT_SAVE_PATH = '/home/A01630791/bmt_clipping_experiments/Output_4_4'\n",
    "\n",
    "fig = ax.get_figure()\n",
    "fig.savefig(f'{PLOT_SAVE_PATH}/3_1.png', dpi=300, bbox_inches='tight')"
   ]
  },
  {
   "cell_type": "markdown",
   "id": "22298cd3",
   "metadata": {},
   "source": [
    "The previous chart displays the number of captions for each video in a subset of 10 videos from LABC after clipping and also after filtering. A plot of the average number captions of subclips for any given video is shown in red. The vidos are sorted from shorter duration (left) to larger duration (right). We note that the videos lose an average of 49.6% of the captions the had before filtering. "
   ]
  },
  {
   "cell_type": "markdown",
   "id": "098f762c",
   "metadata": {},
   "source": [
    "## 4. Filtering (scene detection clipping results)"
   ]
  },
  {
   "cell_type": "code",
   "execution_count": 8,
   "id": "6501210b",
   "metadata": {},
   "outputs": [],
   "source": [
    "# filtering module instance\n",
    "fm = FilteringModule()"
   ]
  },
  {
   "cell_type": "code",
   "execution_count": 9,
   "id": "6171dc6c",
   "metadata": {},
   "outputs": [],
   "source": [
    "# define the output path 2 (scene detection)\n",
    "FM_OUTPUT_PATH_2 = '/home/A01630791/bmt_clipping_experiments/Output_4_4/4_4_filtered_captions2.json'\n",
    "\n",
    "with open(FM_OUTPUT_PATH_2, 'w') as f:\n",
    "    f.write('[]')"
   ]
  },
  {
   "cell_type": "code",
   "execution_count": null,
   "id": "055d64b5",
   "metadata": {},
   "outputs": [],
   "source": [
    "# filter file\n",
    "fm.filter_file(\n",
    "    input_path=SD_OUTPUT_PATH,\n",
    "    output_path=FM_OUTPUT_PATH_2,\n",
    ")"
   ]
  },
  {
   "cell_type": "code",
   "execution_count": 129,
   "id": "c1c5eb9c",
   "metadata": {},
   "outputs": [
    {
     "data": {
      "text/html": [
       "<div>\n",
       "<style scoped>\n",
       "    .dataframe tbody tr th:only-of-type {\n",
       "        vertical-align: middle;\n",
       "    }\n",
       "\n",
       "    .dataframe tbody tr th {\n",
       "        vertical-align: top;\n",
       "    }\n",
       "\n",
       "    .dataframe thead th {\n",
       "        text-align: right;\n",
       "    }\n",
       "</style>\n",
       "<table border=\"1\" class=\"dataframe\">\n",
       "  <thead>\n",
       "    <tr style=\"text-align: right;\">\n",
       "      <th></th>\n",
       "      <th>captions</th>\n",
       "      <th>duration</th>\n",
       "      <th>video_id</th>\n",
       "      <th>number_captions_no_filtering</th>\n",
       "    </tr>\n",
       "  </thead>\n",
       "  <tbody>\n",
       "    <tr>\n",
       "      <th>0</th>\n",
       "      <td>[{'start': 3600.0, 'end': 3616.1, 'sentence': ...</td>\n",
       "      <td>1116.592</td>\n",
       "      <td>zvSbF0dKQM8</td>\n",
       "      <td>137</td>\n",
       "    </tr>\n",
       "    <tr>\n",
       "      <th>1</th>\n",
       "      <td>[{'start': 43228.0, 'end': 43229.8, 'sentence'...</td>\n",
       "      <td>1180.979</td>\n",
       "      <td>0RqBZlDur5k</td>\n",
       "      <td>130</td>\n",
       "    </tr>\n",
       "    <tr>\n",
       "      <th>2</th>\n",
       "      <td>[{'start': 111616.4, 'end': 111621.5, 'sentenc...</td>\n",
       "      <td>1035.102</td>\n",
       "      <td>DAlNWRjXY4A</td>\n",
       "      <td>87</td>\n",
       "    </tr>\n",
       "    <tr>\n",
       "      <th>3</th>\n",
       "      <td>[{'start': 104400.1, 'end': 104410.1, 'sentenc...</td>\n",
       "      <td>1101.893</td>\n",
       "      <td>_VWAFXFRTcA</td>\n",
       "      <td>153</td>\n",
       "    </tr>\n",
       "    <tr>\n",
       "      <th>4</th>\n",
       "      <td>[{'start': 43228.6, 'end': 43230.1, 'sentence'...</td>\n",
       "      <td>1235.941</td>\n",
       "      <td>0dyQouKDR2M</td>\n",
       "      <td>125</td>\n",
       "    </tr>\n",
       "  </tbody>\n",
       "</table>\n",
       "</div>"
      ],
      "text/plain": [
       "                                            captions  duration     video_id  \\\n",
       "0  [{'start': 3600.0, 'end': 3616.1, 'sentence': ...  1116.592  zvSbF0dKQM8   \n",
       "1  [{'start': 43228.0, 'end': 43229.8, 'sentence'...  1180.979  0RqBZlDur5k   \n",
       "2  [{'start': 111616.4, 'end': 111621.5, 'sentenc...  1035.102  DAlNWRjXY4A   \n",
       "3  [{'start': 104400.1, 'end': 104410.1, 'sentenc...  1101.893  _VWAFXFRTcA   \n",
       "4  [{'start': 43228.6, 'end': 43230.1, 'sentence'...  1235.941  0dyQouKDR2M   \n",
       "\n",
       "   number_captions_no_filtering  \n",
       "0                           137  \n",
       "1                           130  \n",
       "2                            87  \n",
       "3                           153  \n",
       "4                           125  "
      ]
     },
     "execution_count": 129,
     "metadata": {},
     "output_type": "execute_result"
    }
   ],
   "source": [
    "fm_results_df = pd.read_json(FM_OUTPUT_PATH_1, orient='records')\n",
    "fm_results_df = pd.merge(\n",
    "    how=\"left\", \n",
    "    left=fm_results_df, \n",
    "    right=ft_num_captions_no_filtering, \n",
    "    left_on='video_id', \n",
    "    right_on='video_id',\n",
    ")\n",
    "fm_results_df.head()"
   ]
  },
  {
   "cell_type": "code",
   "execution_count": 130,
   "id": "97ab56d2",
   "metadata": {},
   "outputs": [],
   "source": [
    "fm_results_df['number_captions'] = [len(sample.captions) for index, sample in fm_results_df.iterrows()]"
   ]
  },
  {
   "cell_type": "code",
   "execution_count": 131,
   "id": "d29f1fe8",
   "metadata": {},
   "outputs": [],
   "source": [
    "average_clip_captions = ft_output.groupby(by='video_id').number_captions.mean()\n",
    "average_clip_captions.rename(\"avg_clip_captions\", inplace=True)\n",
    "fm_results_df = pd.merge(fm_results_df, average_clip_captions, how='left', on='video_id')"
   ]
  },
  {
   "cell_type": "code",
   "execution_count": 132,
   "id": "de46f0a9",
   "metadata": {
    "scrolled": true
   },
   "outputs": [
    {
     "data": {
      "text/html": [
       "<div>\n",
       "<style scoped>\n",
       "    .dataframe tbody tr th:only-of-type {\n",
       "        vertical-align: middle;\n",
       "    }\n",
       "\n",
       "    .dataframe tbody tr th {\n",
       "        vertical-align: top;\n",
       "    }\n",
       "\n",
       "    .dataframe thead th {\n",
       "        text-align: right;\n",
       "    }\n",
       "</style>\n",
       "<table border=\"1\" class=\"dataframe\">\n",
       "  <thead>\n",
       "    <tr style=\"text-align: right;\">\n",
       "      <th></th>\n",
       "      <th>captions</th>\n",
       "      <th>duration</th>\n",
       "      <th>video_id</th>\n",
       "      <th>number_captions_no_filtering</th>\n",
       "      <th>number_captions</th>\n",
       "      <th>avg_clip_captions</th>\n",
       "    </tr>\n",
       "  </thead>\n",
       "  <tbody>\n",
       "    <tr>\n",
       "      <th>2</th>\n",
       "      <td>[{'start': 111616.4, 'end': 111621.5, 'sentenc...</td>\n",
       "      <td>1035.102</td>\n",
       "      <td>DAlNWRjXY4A</td>\n",
       "      <td>87</td>\n",
       "      <td>47</td>\n",
       "      <td>2.718750</td>\n",
       "    </tr>\n",
       "    <tr>\n",
       "      <th>3</th>\n",
       "      <td>[{'start': 104400.1, 'end': 104410.1, 'sentenc...</td>\n",
       "      <td>1101.893</td>\n",
       "      <td>_VWAFXFRTcA</td>\n",
       "      <td>153</td>\n",
       "      <td>50</td>\n",
       "      <td>4.250000</td>\n",
       "    </tr>\n",
       "    <tr>\n",
       "      <th>0</th>\n",
       "      <td>[{'start': 3600.0, 'end': 3616.1, 'sentence': ...</td>\n",
       "      <td>1116.592</td>\n",
       "      <td>zvSbF0dKQM8</td>\n",
       "      <td>137</td>\n",
       "      <td>72</td>\n",
       "      <td>4.151515</td>\n",
       "    </tr>\n",
       "    <tr>\n",
       "      <th>1</th>\n",
       "      <td>[{'start': 43228.0, 'end': 43229.8, 'sentence'...</td>\n",
       "      <td>1180.979</td>\n",
       "      <td>0RqBZlDur5k</td>\n",
       "      <td>130</td>\n",
       "      <td>85</td>\n",
       "      <td>3.513514</td>\n",
       "    </tr>\n",
       "    <tr>\n",
       "      <th>4</th>\n",
       "      <td>[{'start': 43228.6, 'end': 43230.1, 'sentence'...</td>\n",
       "      <td>1235.941</td>\n",
       "      <td>0dyQouKDR2M</td>\n",
       "      <td>125</td>\n",
       "      <td>66</td>\n",
       "      <td>3.289474</td>\n",
       "    </tr>\n",
       "  </tbody>\n",
       "</table>\n",
       "</div>"
      ],
      "text/plain": [
       "                                            captions  duration     video_id  \\\n",
       "2  [{'start': 111616.4, 'end': 111621.5, 'sentenc...  1035.102  DAlNWRjXY4A   \n",
       "3  [{'start': 104400.1, 'end': 104410.1, 'sentenc...  1101.893  _VWAFXFRTcA   \n",
       "0  [{'start': 3600.0, 'end': 3616.1, 'sentence': ...  1116.592  zvSbF0dKQM8   \n",
       "1  [{'start': 43228.0, 'end': 43229.8, 'sentence'...  1180.979  0RqBZlDur5k   \n",
       "4  [{'start': 43228.6, 'end': 43230.1, 'sentence'...  1235.941  0dyQouKDR2M   \n",
       "\n",
       "   number_captions_no_filtering  number_captions  avg_clip_captions  \n",
       "2                            87               47           2.718750  \n",
       "3                           153               50           4.250000  \n",
       "0                           137               72           4.151515  \n",
       "1                           130               85           3.513514  \n",
       "4                           125               66           3.289474  "
      ]
     },
     "execution_count": 132,
     "metadata": {},
     "output_type": "execute_result"
    }
   ],
   "source": [
    "fm_results_df.sort_values(by='duration', inplace=True)\n",
    "fm_results_df.head()"
   ]
  },
  {
   "cell_type": "code",
   "execution_count": 153,
   "id": "b3e3999a",
   "metadata": {},
   "outputs": [
    {
     "data": {
      "text/plain": [
       "49.601379087571885"
      ]
     },
     "execution_count": 153,
     "metadata": {},
     "output_type": "execute_result"
    }
   ],
   "source": [
    "# mean decrease\n",
    "diff_captions = fm_results_df.number_captions_no_filtering - fm_results_df.number_captions\n",
    "diff_captions_percentage = diff_captions / fm_results_df.number_captions_no_filtering * 100\n",
    "diff_captions_percentage.mean()"
   ]
  },
  {
   "cell_type": "code",
   "execution_count": 158,
   "id": "4129febb",
   "metadata": {},
   "outputs": [
    {
     "data": {
      "text/plain": [
       "(-1, 10)"
      ]
     },
     "execution_count": 158,
     "metadata": {},
     "output_type": "execute_result"
    },
    {
     "data": {
      "image/png": "[encoded data removed]",
      "text/plain": [
       "<Figure size 640x480 with 1 Axes>"
      ]
     },
     "metadata": {},
     "output_type": "display_data"
    }
   ],
   "source": [
    "ax = fm_results_df.plot(kind=\"bar\", x=\"video_id\", y=\"number_captions_no_filtering\", color=\"lightgray\", rot=90)\n",
    "fm_results_df.plot(kind=\"bar\", x=\"video_id\", y=\"number_captions\", rot=90, ax=ax)\n",
    "fm_results_df.plot(kind=\"line\", x=\"video_id\", y=\"avg_clip_captions\", color=\"red\", marker='o', ax=ax, rot=90)\n",
    "ax.legend([\n",
    "    'Average captions in subclip', \n",
    "    'Number of BMT-generated captions with clipping', \n",
    "    'Number of BMT-generated captions after filtering'\n",
    "])\n",
    "ax.set_xlabel('Video ID')\n",
    "ax.set_xlim(-1, 10)"
   ]
  },
  {
   "cell_type": "code",
   "execution_count": 154,
   "id": "061ef935",
   "metadata": {},
   "outputs": [],
   "source": [
    "PLOT_SAVE_PATH = '/home/A01630791/bmt_clipping_experiments/Output_4_4'\n",
    "\n",
    "fig = ax.get_figure()\n",
    "fig.savefig(f'{PLOT_SAVE_PATH}/3_1.png', dpi=300, bbox_inches='tight')"
   ]
  },
  {
   "cell_type": "markdown",
   "id": "1bd11383",
   "metadata": {},
   "source": [
    "The previous chart displays the number of captions for each video in a subset of 10 videos from LABC after clipping and also after filtering. A plot of the average number captions of subclips for any given video is shown in red. The vidos are sorted from shorter duration (left) to larger duration (right). We note that the videos lose an average of 49.6% of the captions the had before filtering. "
   ]
  },
  {
   "cell_type": "code",
   "execution_count": null,
   "id": "1bc2dbce",
   "metadata": {},
   "outputs": [],
   "source": []
  }
 ],
 "metadata": {
  "kernelspec": {
   "display_name": "bmt",
   "language": "python",
   "name": "bmt"
  },
  "language_info": {
   "codemirror_mode": {
    "name": "ipython",
    "version": 3
   },
   "file_extension": ".py",
   "mimetype": "text/x-python",
   "name": "python",
   "nbconvert_exporter": "python",
   "pygments_lexer": "ipython3",
   "version": "3.7.7"
  }
 },
 "nbformat": 4,
 "nbformat_minor": 5
}
