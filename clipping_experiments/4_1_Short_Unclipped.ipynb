{
 "cells": [
  {
   "cell_type": "markdown",
   "id": "67eba8be",
   "metadata": {},
   "source": [
    "# Experiment 4.1: Testing the BMT with short, unclipped videos (ActivityNet Captions Dataset)\n",
    "\n",
    "The aim of this experiment is to evaluate whether the BMT yields an amount of captions consistent with the amount of events found by human annotators. As discussed earlier, the number of annotations in the dataset is subject to the criteria the annotator uses to determine what an event is. This experiment will help us understand the influence of the implicit criteria from annotators in the dataset on the proposal generator module from the BMT. The results will be referenced in further experiments to compare our solution to the original BMT."
   ]
  },
  {
   "cell_type": "markdown",
   "id": "d17bfc45",
   "metadata": {},
   "source": [
    "## 1. Environment\n",
    "In the following cell, change assign `WD` the path to the BMT-Clipping repository. If you want to use the original BMT repository, you need to make the same modifications we made to the [`single_video_prediction.py`](https://github.com/oscarmires/BMT-Clipping/blob/master/sample/single_video_prediction.py) file.\n",
    "\n",
    "Additionally, assign the path to your environments directory (e.g. where conda stores all directories) to the `ENVS_PATH` variable."
   ]
  },
  {
   "cell_type": "code",
   "execution_count": 2,
   "id": "fd3075c1",
   "metadata": {},
   "outputs": [
    {
     "name": "stdout",
     "output_type": "stream",
     "text": [
      "/home/A01630791/BMT\n"
     ]
    }
   ],
   "source": [
    "# Working directory (it must be the repository's root directory)\n",
    "WD = '/home/A01630791/BMT'\n",
    "%cd $WD\n",
    "\n",
    "# Environments directory (e.g. anaconda3/envs)\n",
    "ENVS_PATH = '/home/A01630791/anaconda3/envs'"
   ]
  },
  {
   "cell_type": "code",
   "execution_count": null,
   "id": "96cb749f",
   "metadata": {},
   "outputs": [],
   "source": [
    "# Environment\n",
    "## feature extraction (run directly in terminal if the notebook can't execute)\n",
    "!conda env create -f ./submodules/video_features/conda_env_i3d.yml\n",
    "!conda env create -f ./submodules/video_features/conda_env_vggish.yml\n",
    "## captioning model (run directly in terminal if the notebook can't execute)\n",
    "!conda env create -f ./conda_env.yml\n",
    "## spacy language model (use the path to your 'bmt' environment instead)\n",
    "!$ENVS_PATH/bmt/bin/python -m spacy download en"
   ]
  },
  {
   "cell_type": "code",
   "execution_count": null,
   "id": "ee830faa",
   "metadata": {},
   "outputs": [],
   "source": [
    "# (Optional) Install additional libraries in environment (run directly in terminal if the notebook can't execute)\n",
    "!conda install pytube\n",
    "!conda install numpy\n",
    "!conda install matplotlib"
   ]
  },
  {
   "cell_type": "code",
   "execution_count": 3,
   "id": "ce90fe12",
   "metadata": {},
   "outputs": [],
   "source": [
    "import json, re, collections\n",
    "import numpy as np\n",
    "import matplotlib.pyplot as plt\n",
    "from pytube import YouTube"
   ]
  },
  {
   "cell_type": "markdown",
   "id": "35227cc8",
   "metadata": {},
   "source": [
    "## 2. Importing the dataset\n",
    "In this part, we use the ActivityNet Captions dataset available at https://cs.stanford.edu/people/ranjaykrishna/densevid/.\n",
    "Download the dataset to your filesystem before executing the following cells."
   ]
  },
  {
   "cell_type": "markdown",
   "id": "a4315aa3",
   "metadata": {},
   "source": [
    "### 2.1 Train set\n",
    "The train set will be necessary for some preliminary analysis of the data the BMT was trained on."
   ]
  },
  {
   "cell_type": "code",
   "execution_count": 4,
   "id": "0acccf19",
   "metadata": {},
   "outputs": [],
   "source": [
    "# Replace the value of the following variable with the path to the dataset in your fs.\n",
    "ANETC_PATH = '/home/A01630791/bmt_clipping_experiments/ActivityNet_Captions'"
   ]
  },
  {
   "cell_type": "code",
   "execution_count": 5,
   "id": "3638590d",
   "metadata": {},
   "outputs": [],
   "source": [
    "# Open the file as a JSON object\n",
    "with open(f'{ANETC_PATH}/train.json', 'r') as f:\n",
    "    activitynet_train = json.load(f)"
   ]
  },
  {
   "cell_type": "code",
   "execution_count": 6,
   "id": "c331759a",
   "metadata": {},
   "outputs": [
    {
     "name": "stdout",
     "output_type": "stream",
     "text": [
      "sample: {'duration': 82.73, 'timestamps': [[0.83, 19.86], [17.37, 60.81], [56.26, 79.42]], 'sentences': ['A young woman is seen standing in a room and leads into her dancing.', ' The girl dances around the room while the camera captures her movements.', ' She continues dancing around the room and ends by laying on the floor.']}\n",
      "\n",
      "Number of samples:  10009\n"
     ]
    }
   ],
   "source": [
    "# (Optional) Test the above cell by printing a sample.\n",
    "print('sample:', activitynet_train['v_QOlSCBRmfWY'])\n",
    "print('\\nNumber of samples: ', len(activitynet_train))"
   ]
  },
  {
   "cell_type": "markdown",
   "id": "5b7d8ad4",
   "metadata": {},
   "source": [
    "### 2.2 Validation set\n",
    "The validation set no. 1 from ActivityNet Captions will be used to feed the BMT in this experiment. We prefer a test dataset. We cannot use it, however, because it doesn't include annotations, hence our choice for a validation subset."
   ]
  },
  {
   "cell_type": "code",
   "execution_count": 7,
   "id": "081ca891",
   "metadata": {},
   "outputs": [],
   "source": [
    "# Open the file as a JSON object\n",
    "with open(f'{ANETC_PATH}/val_1.json', 'r') as f:\n",
    "    activitynet_val = json.load(f)"
   ]
  },
  {
   "cell_type": "code",
   "execution_count": 8,
   "id": "9b836901",
   "metadata": {},
   "outputs": [
    {
     "name": "stdout",
     "output_type": "stream",
     "text": [
      "sample: {'duration': 55.15, 'timestamps': [[0.28, 55.15], [13.79, 54.32]], 'sentences': ['A weight lifting tutorial is given.', '  The coach helps the guy in red with the proper body placement and lifting technique.']}\n",
      "\n",
      "Number of samples:  4917\n"
     ]
    }
   ],
   "source": [
    "# (Optional) Test the above cell printing a sample.\n",
    "print('sample:', activitynet_val['v_uqiMw7tQ1Cc'])\n",
    "print('\\nNumber of samples: ', len(activitynet_val))"
   ]
  },
  {
   "cell_type": "markdown",
   "id": "9b40a23e",
   "metadata": {},
   "source": [
    "## 3. Preparing and pre-analyzing the data\n",
    "\n",
    "We make this previous analysis to have general view of the data in ActivityNet Captions.\n",
    "First, we need to convert the data to an array, so it is easier to work with.\n",
    "The following cell traverses each element in the JSON dataset to reformat them into an array."
   ]
  },
  {
   "cell_type": "code",
   "execution_count": 9,
   "id": "6ec751c3",
   "metadata": {},
   "outputs": [
    {
     "name": "stdout",
     "output_type": "stream",
     "text": [
      "sample: {'duration': 82.73, 'timestamps': [[0.83, 19.86], [17.37, 60.81], [56.26, 79.42]], 'sentences': ['A young woman is seen standing in a room and leads into her dancing.', ' The girl dances around the room while the camera captures her movements.', ' She continues dancing around the room and ends by laying on the floor.'], 'video_id': 'QOlSCBRmfWY', 'dataset_key': 'v_QOlSCBRmfWY'}\n",
      "\n",
      "arr length: 10009\n"
     ]
    }
   ],
   "source": [
    "# Convert 'activitynet_test' to an array of dictionaries\n",
    "activitynet_train_list = []\n",
    "\n",
    "for key in activitynet_train.keys():\n",
    "    obj = activitynet_train[key]\n",
    "    obj['video_id'] = key[2:]\n",
    "    obj['dataset_key'] = key\n",
    "    activitynet_train_list.append(obj)\n",
    "    \n",
    "print('sample:', activitynet_train_list[0])\n",
    "print('\\narr length:', len(activitynet_train_list))"
   ]
  },
  {
   "cell_type": "code",
   "execution_count": 10,
   "id": "ce3a6d03",
   "metadata": {},
   "outputs": [
    {
     "name": "stdout",
     "output_type": "stream",
     "text": [
      "sample: {'duration': 55.15, 'timestamps': [[0.28, 55.15], [13.79, 54.32]], 'sentences': ['A weight lifting tutorial is given.', '  The coach helps the guy in red with the proper body placement and lifting technique.'], 'video_id': 'uqiMw7tQ1Cc', 'dataset_key': 'v_uqiMw7tQ1Cc'}\n",
      "\n",
      "arr length: 4917\n"
     ]
    }
   ],
   "source": [
    "# Convert 'activitynet_val' to an array of dictionaries\n",
    "activitynet_val_list = []\n",
    "\n",
    "for key in activitynet_val.keys():\n",
    "    obj = activitynet_val[key]\n",
    "    obj['video_id'] = key[2:]\n",
    "    obj['dataset_key'] = key\n",
    "    activitynet_val_list.append(obj)\n",
    "    \n",
    "print('sample:', activitynet_val_list[0])\n",
    "print('\\narr length:', len(activitynet_val_list))"
   ]
  },
  {
   "cell_type": "markdown",
   "id": "70528817",
   "metadata": {},
   "source": [
    "### 3.1 Video duration vs. annotations\n",
    "In this part, we want to see the distribution of annotations over different video durations."
   ]
  },
  {
   "cell_type": "markdown",
   "id": "59143978",
   "metadata": {},
   "source": [
    "The following cell plots the video duration vs. no. of annotations in the train set."
   ]
  },
  {
   "cell_type": "code",
   "execution_count": 10,
   "id": "b451a1c3",
   "metadata": {},
   "outputs": [
    {
     "data": {
      "image/png": "[encoded data removed]",
      "text/plain": [
       "<Figure size 640x480 with 1 Axes>"
      ]
     },
     "metadata": {},
     "output_type": "display_data"
    }
   ],
   "source": [
    "# activitynet_train_sorted_duration = sorted(activitynet_train_list, key=lambda i: i['duration'])\n",
    "\n",
    "# Plot\n",
    "x = [sample['duration'] / 60 for sample in activitynet_train_list][:1000]\n",
    "y = [len(sample['sentences']) for sample in activitynet_train_list][:1000]\n",
    "\n",
    "plt.scatter(x, y)\n",
    "\n",
    "plt.xlabel(\"Video duration (minutes)\")\n",
    "plt.ylabel(\"Number of annotations in dataset\")\n",
    "\n",
    "# Save and show\n",
    "#    Replace the following variable with the path used to save the plot\n",
    "PLOT_SAVE_PATH = '/home/A01630791/bmt_clipping_experiments/Output_4_1/'\n",
    "\n",
    "plt.savefig(f'{PLOT_SAVE_PATH}/3_1_a.png', dpi=300)\n",
    "plt.show()"
   ]
  },
  {
   "cell_type": "markdown",
   "id": "add5daee",
   "metadata": {},
   "source": [
    "The following cell plots the video duration vs. no. of annotations in the validation set."
   ]
  },
  {
   "cell_type": "code",
   "execution_count": 11,
   "id": "6d0c299c",
   "metadata": {},
   "outputs": [
    {
     "data": {
      "image/png": "[encoded data removed]",
      "text/plain": [
       "<Figure size 640x480 with 1 Axes>"
      ]
     },
     "metadata": {},
     "output_type": "display_data"
    }
   ],
   "source": [
    "# activitynet_val_sorted_duration = sorted(activitynet_val_list, key=lambda i: i['duration'])\n",
    "\n",
    "# Plot\n",
    "x = [sample['duration'] / 60 for sample in activitynet_val_list][:1000]\n",
    "y = [len(sample['sentences']) for sample in activitynet_val_list][:1000]\n",
    "\n",
    "plt.scatter(x, y)\n",
    "\n",
    "plt.xlabel(\"Video duration (minutes)\")\n",
    "plt.ylabel(\"Number of annotations in dataset\")\n",
    "\n",
    "# Save and show\n",
    "#    Replace the following variable with the path used to save the plot\n",
    "PLOT_SAVE_PATH = '/home/A01630791/bmt_clipping_experiments/Output_4_1/'\n",
    "\n",
    "plt.savefig(f'{PLOT_SAVE_PATH}/3_1_b.png', dpi=300)\n",
    "plt.show()"
   ]
  },
  {
   "cell_type": "markdown",
   "id": "3fab19e4",
   "metadata": {},
   "source": [
    "It is expected that a longer video is given a greater number of annotations. This expectation is fulfilled for videos with a length between zero and four minutes, where some of the samples approaching a length of four minutes reach the greatest amount of annotations. Nevertheless, some others have as few annotations as those which length approaches zero minutes. The dataset does not contain enough samples with a duration greater than four minutes to reach a conclusion about them. We can think of many reasons the lack of annotations for videos longer than four minutes. For instance, the annotator might have found that the video did not have more relevant events or, maybe, the the annotator didn't have enough time to give attention to detail.\n",
    "\n",
    "As mention before, we wish to understand the influence of implicit criteria from annotators in the dataset on the proposal generator module from the BMT. As part of this experiment, we will feed the same dataset to the BMT to generate captions to compare the patterns we see in the previous plots to the patterns we will find in duration vs. generated captions plots."
   ]
  },
  {
   "cell_type": "markdown",
   "id": "973e0c8d",
   "metadata": {},
   "source": [
    "## 4. Execution\n",
    "In this part, we execute the BMT model to generate captions for each of the samples in the `activitynet_val` set. We will not need the `activitynet_test` set anymore. The results will then be taken to obtain a 'Duration vs. number of generated captions' chart and the following metrics: \n",
    "- Captions Per Minute (CPM): the number of captions the BMT generates after running a single video, divided by the duration of the video in minutes.\n",
    "- Ground-truths Per Minute (GPM): the number of ground-truths (human-consulted textual event descriptions) the dataset provides for each video to train the model, divided by the duration of the video in minutes.\n",
    "- Caption-to-ground-truth correlation coefficient (_r_): the correlation coefficient between CPM and GPM as implemented by NumPy.\n"
   ]
  },
  {
   "cell_type": "markdown",
   "id": "f38e7164",
   "metadata": {},
   "source": [
    "### 4.1 Preparation\n",
    "Assign the path where you would like to create the output file. We name this file `4_1_bmt_captions.json`.\n",
    "\n",
    "Additionally, create a directory in your filesystem to temporarily store the YouTube videos. Assign `ANETC_VIDEOS_PATH` the path to this directory."
   ]
  },
  {
   "cell_type": "code",
   "execution_count": 11,
   "id": "1c682137",
   "metadata": {},
   "outputs": [],
   "source": [
    "# Create output file\n",
    "OUTPUT_PATH = '/home/A01630791/bmt_clipping_experiments/Output_4_1'\n",
    "\n",
    "with open(f'{OUTPUT_PATH}/4_1_bmt_captions.json', \"w\") as f:\n",
    "  f.write(\"[]\")\n",
    "\n",
    "# Video directory (path to your)\n",
    "ANETC_VIDEOS_PATH = '/home/A01630791/bmt_clipping_experiments/ActivityNet_Captions_val_set_videos/'"
   ]
  },
  {
   "cell_type": "markdown",
   "id": "36459855",
   "metadata": {},
   "source": [
    "### 4.2 BMT installation\n",
    "Run the following cells to prepare the environment for BMT."
   ]
  },
  {
   "cell_type": "code",
   "execution_count": 12,
   "id": "389c7b83",
   "metadata": {},
   "outputs": [],
   "source": [
    "# Libraries\n",
    "import os\n",
    "from pathlib import Path\n",
    "from sample.single_video_prediction import get_video_duration"
   ]
  },
  {
   "cell_type": "code",
   "execution_count": null,
   "id": "2c251a2e",
   "metadata": {},
   "outputs": [],
   "source": [
    "# Download BMT Checkpoints\n",
    "\n",
    "!wget https://a3s.fi/swift/v1/AUTH_a235c0f452d648828f745589cde1219a/bmt/glove.840B.300d.zip\n",
    "!wget https://a3s.fi/swift/v1/AUTH_a235c0f452d648828f745589cde1219a/bmt/best_cap_model.pt\n",
    "!wget https://a3s.fi/swift/v1/AUTH_a235c0f452d648828f745589cde1219a/bmt/best_prop_model.pt\n",
    "!wget https://storage.googleapis.com/audioset/vggish_model.ckpt\n",
    "\n",
    "!mkdir .vector_cache\n",
    "!mv glove.840B.300d.zip ./.vector_cache/\n",
    "!mv best_cap_model.pt ./sample/\n",
    "!mv best_prop_model.pt ./sample/\n",
    "!mv vggish_model.ckpt ./submodules/video_features/models/vggish/checkpoints/"
   ]
  },
  {
   "cell_type": "code",
   "execution_count": 4,
   "id": "f10af38f",
   "metadata": {},
   "outputs": [
    {
     "name": "stdout",
     "output_type": "stream",
     "text": [
      "/home/A01630791/BMT/clipping_experiments\r\n"
     ]
    }
   ],
   "source": [
    "mkdir "
   ]
  },
  {
   "cell_type": "code",
   "execution_count": 13,
   "id": "5649d2c8",
   "metadata": {},
   "outputs": [
    {
     "name": "stdout",
     "output_type": "stream",
     "text": [
      "Sample download complete.\n",
      "Video Duration: 55.077722\n",
      "Extracting I3D features.\n",
      "Saving features to /home/A01630791/BMT/tmp/\n",
      "100%|█████████████████████████████████████████████| 1/1 [00:26<00:00, 26.84s/it]\n",
      "Extracting VGGish features.\n",
      "Saving features to /home/A01630791/BMT/tmp/\n",
      "\n",
      "WARNING: The TensorFlow contrib module will not be included in TensorFlow 2.0.\n",
      "For more information, please see:\n",
      "  * https://github.com/tensorflow/community/blob/master/rfcs/20180907-contrib-sunset.md\n",
      "  * https://github.com/tensorflow/addons\n",
      "If you depend on functionality not listed there, please file an issue.\n",
      "\n",
      "  0%|                                                     | 0/1 [00:00<?, ?it/s]2022-11-07 17:54:23.672863: W tensorflow/core/util/tensor_slice_reader.cc:95] Could not open ./models/vggish/checkpoints/vggish_model.ckpt: Data loss: not an sstable (bad magic number): perhaps your file is in a different file format and you need to use a different restore operator?\n",
      "2022-11-07 17:54:23.673183: W tensorflow/core/util/tensor_slice_reader.cc:95] Could not open ./models/vggish/checkpoints/vggish_model.ckpt: Data loss: not an sstable (bad magic number): perhaps your file is in a different file format and you need to use a different restore operator?\n",
      "2022-11-07 17:54:23.673207: W tensorflow/core/framework/op_kernel.cc:1401] OP_REQUIRES failed at save_restore_tensor.cc:175 : Data loss: Unable to open table file ./models/vggish/checkpoints/vggish_model.ckpt: Data loss: not an sstable (bad magic number): perhaps your file is in a different file format and you need to use a different restore operator?\n",
      "Traceback (most recent call last):\n",
      "  File \"main.py\", line 73, in <module>\n",
      "    parallel_feature_extraction(args)\n",
      "  File \"main.py\", line 29, in parallel_feature_extraction\n",
      "    torch.nn.parallel.parallel_apply(replicas[:len(inputs)], inputs)\n",
      "  File \"/home/A01630791/anaconda3/envs/vggish/lib/python3.7/site-packages/torch/nn/parallel/parallel_apply.py\", line 85, in parallel_apply\n",
      "    output.reraise()\n",
      "  File \"/home/A01630791/anaconda3/envs/vggish/lib/python3.7/site-packages/torch/_utils.py\", line 369, in reraise\n",
      "    raise self.exc_type(msg)\n",
      "TypeError: __init__() missing 2 required positional arguments: 'op' and 'message'\n",
      "  0%|                                                     | 0/1 [00:03<?, ?it/s]\n",
      "Generating caption.\n",
      "Traceback (most recent call last):\n",
      "  File \"./sample/single_video_prediction.py\", line 302, in <module>\n",
      "    cap_cfg, cap_model, train_dataset = load_cap_model(args.pretrained_cap_model_path, args.device_id)\n",
      "  File \"./sample/single_video_prediction.py\", line 131, in load_cap_model\n",
      "    cap_model_cpt = torch.load(pretrained_cap_model_path, map_location='cpu')\n",
      "  File \"/home/A01630791/anaconda3/envs/bmt/lib/python3.7/site-packages/torch/serialization.py\", line 386, in load\n",
      "    return _load(f, map_location, pickle_module, **pickle_load_args)\n",
      "  File \"/home/A01630791/anaconda3/envs/bmt/lib/python3.7/site-packages/torch/serialization.py\", line 580, in _load\n",
      "    deserialized_objects[key]._set_from_file(f, offset, f_should_read_directly)\n",
      "RuntimeError: unexpected EOF, expected 1222971 more bytes. The file might be corrupted.\n",
      "Sample deleted\n",
      "\n",
      " ***** Processed 1/4917 samples. *****\n",
      "\n",
      "Execution completed.\n",
      "{'not_found_videos': [], 'current_sample_num': 2, 'total_samples': 4917}\n",
      "YouTube not found videos: 0\n"
     ]
    }
   ],
   "source": [
    "# captioning parameters\n",
    "MAX_PROP_PER_VIDEO = 100\n",
    "NMS_TIOU_THRESHOLD = 0.4\n",
    "\n",
    "# checkpoint paths\n",
    "PROPOSAL_CKPT = f'{WD}/sample/best_prop_model.pt'\n",
    "CAPTIONING_CKPT = f'{WD}/sample/best_cap_model.pt'\n",
    "\n",
    "# execution metadata\n",
    "exec_md = {\n",
    "    'not_found_videos': [],\n",
    "    'current_sample_num': 1,\n",
    "    'total_samples': len(activitynet_val_list)\n",
    "}\n",
    "\n",
    "for sample in activitynet_val_list[:1]:\n",
    "    \n",
    "    try: \n",
    "        # Step 1: Download the video\n",
    "        link = \"https://www.youtube.com/watch?v=\" + sample['video_id']\n",
    "        yt = YouTube(link) \n",
    "        \n",
    "        filename = re.findall(\"[^=]+$\", link)[0] + '.mp4'\n",
    "        stream = yt.streams.get_highest_resolution()\n",
    "        stream.download(output_path=ANETC_VIDEOS_PATH, filename=filename)\n",
    "        print('Sample download complete.')\n",
    "        \n",
    "        \n",
    "        # Step 2: Extract visual and audio features\n",
    "\n",
    "        ## Prepare complementary paths\n",
    "        video_id = sample['video_id']\n",
    "        MY_VIDEO_PATH = f'{ANETC_VIDEOS_PATH}/{video_id}.mp4'\n",
    "\n",
    "        VIDEO_DURATION = get_video_duration(MY_VIDEO_PATH)\n",
    "\n",
    "        FEATURES_CACHE_PATH = f'{WD}/tmp/'\n",
    "        FEATURES_PATH_STUB = os.path.join(FEATURES_CACHE_PATH, Path(MY_VIDEO_PATH).stem)\n",
    "        FEATURE_PATH_VGGISH = f'{FEATURES_PATH_STUB}_vggish.npy'\n",
    "        FEATURE_PATH_RGB = f'{FEATURES_PATH_STUB}_rgb.npy'\n",
    "        FEATURE_PATH_FLOW = f'{FEATURES_PATH_STUB}_flow.npy'\n",
    "        \n",
    "        # FEATURE_PATH_VGGISH = '/BMT/data/vggish_npy/' + sample['dataset_key'] + '.npy'\n",
    "        # FEATURE_PATH_RGB = '/BMT/data/i3d_25fps_stack64step64_2stream_npy/' + sample['dataset_key'] + '_rgb.npy'\n",
    "        # FEATURE_PATH_FLOW = '/BMT/data/i3d_25fps_stack64step64_2stream_npy/' + sample['dataset_key'] + '_flow.npy'    \n",
    "\n",
    "\n",
    "        ## Extract I3D features\n",
    "        print('Extracting I3D features.')\n",
    "        !cd ./submodules/video_features && $ENVS_PATH/i3d/bin/python main.py \\\n",
    "          --feature_type i3d \\\n",
    "          --on_extraction save_numpy \\\n",
    "          --device_ids 0 \\\n",
    "          --extraction_fps 25 \\\n",
    "          --video_paths $MY_VIDEO_PATH \\\n",
    "          --output_path $FEATURES_CACHE_PATH\n",
    "\n",
    "        print('Extracting VGGish features.')\n",
    "        ## Extract VGGish features (audio)\n",
    "        !cd ./submodules/video_features && $ENVS_PATH/vggish/bin/python main.py \\\n",
    "          --feature_type vggish \\\n",
    "          --on_extraction save_numpy \\\n",
    "          --device_ids 0 \\\n",
    "          --video_paths $MY_VIDEO_PATH \\\n",
    "          --output_path $FEATURES_CACHE_PATH\n",
    "\n",
    "\n",
    "        # Step 3: Captioning\n",
    "        print('Generating caption.')\n",
    "\n",
    "        ## Run single video prediction\n",
    "        !$ENVS_PATH/bmt/bin/python ./sample/single_video_prediction.py \\\n",
    "          --prop_generator_model_path $PROPOSAL_CKPT \\\n",
    "          --pretrained_cap_model_path $CAPTIONING_CKPT \\\n",
    "          --vggish_features_path $FEATURE_PATH_VGGISH \\\n",
    "          --rgb_features_path $FEATURE_PATH_RGB \\\n",
    "          --flow_features_path $FEATURE_PATH_FLOW \\\n",
    "          --duration_in_secs $VIDEO_DURATION \\\n",
    "          --device_id 0 \\\n",
    "          --max_prop_per_vid $MAX_PROP_PER_VIDEO \\\n",
    "          --nms_tiou_thresh $NMS_TIOU_THRESHOLD \\\n",
    "          --video_id $video_id \\\n",
    "          --output_path $OUTPUT_PATH/4_1_bmt_captions.json\n",
    "        \n",
    "        \n",
    "        # Step 4: Delete video to free space\n",
    "        os.remove(MY_VIDEO_PATH)\n",
    "        print('Sample deleted')\n",
    "        \n",
    "    except: \n",
    "        print(\"Error: can't instantiate YouTube object.\") \n",
    "        exec_md['not_found_videos'].append(sample['video_id'])\n",
    "        \n",
    "    curr_sample = exec_md['current_sample_num']\n",
    "    exec_md['current_sample_num'] += 1\n",
    "    total_samples = exec_md['total_samples']\n",
    "    print(f'\\n ***** Processed {curr_sample}/{total_samples} samples. *****\\n')\n",
    "    \n",
    "\n",
    "print('Execution completed.') \n",
    "print(exec_md)\n",
    "print('YouTube not found videos:', len(exec_md['not_found_videos']))"
   ]
  },
  {
   "cell_type": "code",
   "execution_count": null,
   "id": "1a5b733e",
   "metadata": {},
   "outputs": [],
   "source": []
  }
 ],
 "metadata": {
  "kernelspec": {
   "display_name": "bmt",
   "language": "python",
   "name": "bmt"
  },
  "language_info": {
   "codemirror_mode": {
    "name": "ipython",
    "version": 3
   },
   "file_extension": ".py",
   "mimetype": "text/x-python",
   "name": "python",
   "nbconvert_exporter": "python",
   "pygments_lexer": "ipython3",
   "version": "3.7.7"
  }
 },
 "nbformat": 4,
 "nbformat_minor": 5
}
