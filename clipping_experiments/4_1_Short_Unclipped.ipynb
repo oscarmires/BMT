{
 "cells": [
  {
   "cell_type": "markdown",
   "id": "67eba8be",
   "metadata": {},
   "source": [
    "# Experiment 4.1: Testing the BMT with short, unclipped videos (ActivityNet Captions Dataset)\n",
    "\n",
    "The aim of this experiment is to evaluate whether the BMT yields an amount of captions consistent with the amount of events found by human annotators. As discussed earlier, the number of annotations in the dataset is subject to the criteria the annotator uses to determine what an event is. This experiment will help us understand the influence of the implicit criteria from annotators in the dataset on the proposal generator module from the BMT. The results will be referenced in further experiments to compare our solution to the original BMT."
   ]
  },
  {
   "cell_type": "markdown",
   "id": "d17bfc45",
   "metadata": {},
   "source": [
    "## 1. Importing libraries"
   ]
  },
  {
   "cell_type": "code",
   "execution_count": null,
   "id": "ee830faa",
   "metadata": {},
   "outputs": [],
   "source": [
    "# (Optional) Install missing libraries in environment\n",
    "!pip install pytube"
   ]
  },
  {
   "cell_type": "code",
   "execution_count": null,
   "id": "ce90fe12",
   "metadata": {},
   "outputs": [],
   "source": [
    "import json, re, collections\n",
    "import numpy as np\n",
    "import matplotlib.pyplot as plt\n",
    "from pytube import YouTube"
   ]
  },
  {
   "cell_type": "markdown",
   "id": "35227cc8",
   "metadata": {},
   "source": [
    "## 2. Importing the dataset\n",
    "In this part, we use the ActivityNet Captions dataset downloadable from https://cs.stanford.edu/people/ranjaykrishna/densevid/.\n",
    "Download the dataset to your filesystem before executing the following cells."
   ]
  },
  {
   "cell_type": "markdown",
   "id": "a4315aa3",
   "metadata": {},
   "source": [
    "### 2.1 Train set\n",
    "The train set will be necessary for some preliminary analysis of the data the BMT was trained on."
   ]
  },
  {
   "cell_type": "code",
   "execution_count": null,
   "id": "0acccf19",
   "metadata": {},
   "outputs": [],
   "source": [
    "# Replace the value of the following variable with the path to the dataset in your fs.\n",
    "ANETC_PATH = '/home/A01630791/bmt_clipping_experiments/ActivityNet_Captions'"
   ]
  },
  {
   "cell_type": "code",
   "execution_count": 38,
   "id": "3638590d",
   "metadata": {},
   "outputs": [],
   "source": [
    "# Open the file as a JSON object\n",
    "with open(f'{ANETC_PATH}/train.json', 'r') as f:\n",
    "    activitynet_train = json.load(f)"
   ]
  },
  {
   "cell_type": "code",
   "execution_count": 40,
   "id": "c331759a",
   "metadata": {},
   "outputs": [
    {
     "name": "stdout",
     "output_type": "stream",
     "text": [
      "sample: {'duration': 82.73, 'timestamps': [[0.83, 19.86], [17.37, 60.81], [56.26, 79.42]], 'sentences': ['A young woman is seen standing in a room and leads into her dancing.', ' The girl dances around the room while the camera captures her movements.', ' She continues dancing around the room and ends by laying on the floor.']}\n",
      "\n",
      "Number of samples:  10009\n"
     ]
    }
   ],
   "source": [
    "# (Optional) Test the above cell printing a sample.\n",
    "print('sample:', activitynet_train['v_QOlSCBRmfWY'])\n",
    "print('\\nNumber of samples: ', len(activitynet_train))"
   ]
  },
  {
   "cell_type": "markdown",
   "id": "5b7d8ad4",
   "metadata": {},
   "source": [
    "### 2.2 Validation set\n",
    "The validation set no. 1 from ActivityNet Captions will be used to feed the BMT in this experiment. We prefer a test dataset. We cannot use it, however, because it doesn't include annotations, hence our choice for a validation subset."
   ]
  },
  {
   "cell_type": "code",
   "execution_count": 6,
   "id": "081ca891",
   "metadata": {},
   "outputs": [],
   "source": [
    "# Open the file as a JSON object\n",
    "with open(f'{ANETC_PATH}/val_1.json', 'r') as f:\n",
    "    activitynet_val = json.load(f)"
   ]
  },
  {
   "cell_type": "code",
   "execution_count": 15,
   "id": "9b836901",
   "metadata": {},
   "outputs": [
    {
     "name": "stdout",
     "output_type": "stream",
     "text": [
      "sample: {'duration': 55.15, 'timestamps': [[0.28, 55.15], [13.79, 54.32]], 'sentences': ['A weight lifting tutorial is given.', '  The coach helps the guy in red with the proper body placement and lifting technique.'], 'video_id': 'uqiMw7tQ1Cc', 'dataset_key': 'v_uqiMw7tQ1Cc'}\n",
      "\n",
      "Number of samples:  4917\n"
     ]
    }
   ],
   "source": [
    "# (Optional) Test the above cell printing a sample.\n",
    "print('sample:', activitynet_val['v_uqiMw7tQ1Cc'])\n",
    "print('\\nNumber of samples: ', len(activitynet_val))"
   ]
  },
  {
   "cell_type": "markdown",
   "id": "d50f6315",
   "metadata": {},
   "source": [
    "The next cell will download the videos to your filesystem using `pytube`."
   ]
  },
  {
   "cell_type": "code",
   "execution_count": 46,
   "id": "a1b1bb53",
   "metadata": {},
   "outputs": [
    {
     "ename": "VideoPrivate",
     "evalue": "jikOPvJPU-c is a private video",
     "output_type": "error",
     "traceback": [
      "\u001b[0;31m---------------------------------------------------------------------------\u001b[0m",
      "\u001b[0;31mVideoPrivate\u001b[0m                              Traceback (most recent call last)",
      "\u001b[0;32m/tmp/ipykernel_43112/1557525802.py\u001b[0m in \u001b[0;36m<module>\u001b[0;34m\u001b[0m\n\u001b[1;32m     13\u001b[0m \u001b[0;34m\u001b[0m\u001b[0m\n\u001b[1;32m     14\u001b[0m     \u001b[0mfilename\u001b[0m \u001b[0;34m=\u001b[0m \u001b[0mre\u001b[0m\u001b[0;34m.\u001b[0m\u001b[0mfindall\u001b[0m\u001b[0;34m(\u001b[0m\u001b[0;34m\"[^=]+$\"\u001b[0m\u001b[0;34m,\u001b[0m \u001b[0mlink\u001b[0m\u001b[0;34m)\u001b[0m\u001b[0;34m[\u001b[0m\u001b[0;36m0\u001b[0m\u001b[0;34m]\u001b[0m \u001b[0;34m+\u001b[0m \u001b[0;34m'.mp4'\u001b[0m\u001b[0;34m\u001b[0m\u001b[0;34m\u001b[0m\u001b[0m\n\u001b[0;32m---> 15\u001b[0;31m     \u001b[0mstream\u001b[0m \u001b[0;34m=\u001b[0m \u001b[0myt\u001b[0m\u001b[0;34m.\u001b[0m\u001b[0mstreams\u001b[0m\u001b[0;34m.\u001b[0m\u001b[0mget_highest_resolution\u001b[0m\u001b[0;34m(\u001b[0m\u001b[0;34m)\u001b[0m\u001b[0;34m\u001b[0m\u001b[0;34m\u001b[0m\u001b[0m\n\u001b[0m\u001b[1;32m     16\u001b[0m     \u001b[0mstream\u001b[0m\u001b[0;34m.\u001b[0m\u001b[0mdownload\u001b[0m\u001b[0;34m(\u001b[0m\u001b[0moutput_path\u001b[0m\u001b[0;34m=\u001b[0m\u001b[0mANETC_VIDEOS_PATH\u001b[0m\u001b[0;34m,\u001b[0m \u001b[0mfilename\u001b[0m\u001b[0;34m=\u001b[0m\u001b[0mfilename\u001b[0m\u001b[0;34m)\u001b[0m\u001b[0;34m\u001b[0m\u001b[0;34m\u001b[0m\u001b[0m\n\u001b[1;32m     17\u001b[0m \u001b[0;34m\u001b[0m\u001b[0m\n",
      "\u001b[0;32m~/anaconda3/envs/bmt/lib/python3.7/site-packages/pytube/__main__.py\u001b[0m in \u001b[0;36mstreams\u001b[0;34m(self)\u001b[0m\n\u001b[1;32m    293\u001b[0m         \u001b[0;34m:\u001b[0m\u001b[0mrtype\u001b[0m\u001b[0;34m:\u001b[0m \u001b[0;34m:\u001b[0m\u001b[0;32mclass\u001b[0m\u001b[0;34m:\u001b[0m\u001b[0;31m`\u001b[0m\u001b[0mStreamQuery\u001b[0m \u001b[0;34m<\u001b[0m\u001b[0mStreamQuery\u001b[0m\u001b[0;34m>\u001b[0m\u001b[0;31m`\u001b[0m\u001b[0;34m.\u001b[0m\u001b[0;34m\u001b[0m\u001b[0;34m\u001b[0m\u001b[0m\n\u001b[1;32m    294\u001b[0m         \"\"\"\n\u001b[0;32m--> 295\u001b[0;31m         \u001b[0mself\u001b[0m\u001b[0;34m.\u001b[0m\u001b[0mcheck_availability\u001b[0m\u001b[0;34m(\u001b[0m\u001b[0;34m)\u001b[0m\u001b[0;34m\u001b[0m\u001b[0;34m\u001b[0m\u001b[0m\n\u001b[0m\u001b[1;32m    296\u001b[0m         \u001b[0;32mreturn\u001b[0m \u001b[0mStreamQuery\u001b[0m\u001b[0;34m(\u001b[0m\u001b[0mself\u001b[0m\u001b[0;34m.\u001b[0m\u001b[0mfmt_streams\u001b[0m\u001b[0;34m)\u001b[0m\u001b[0;34m\u001b[0m\u001b[0;34m\u001b[0m\u001b[0m\n\u001b[1;32m    297\u001b[0m \u001b[0;34m\u001b[0m\u001b[0m\n",
      "\u001b[0;32m~/anaconda3/envs/bmt/lib/python3.7/site-packages/pytube/__main__.py\u001b[0m in \u001b[0;36mcheck_availability\u001b[0;34m(self)\u001b[0m\n\u001b[1;32m    226\u001b[0m                     \u001b[0;34m'Please sign in to verify that you may see it.'\u001b[0m\u001b[0;34m\u001b[0m\u001b[0;34m\u001b[0m\u001b[0m\n\u001b[1;32m    227\u001b[0m                 ):\n\u001b[0;32m--> 228\u001b[0;31m                     \u001b[0;32mraise\u001b[0m \u001b[0mexceptions\u001b[0m\u001b[0;34m.\u001b[0m\u001b[0mVideoPrivate\u001b[0m\u001b[0;34m(\u001b[0m\u001b[0mvideo_id\u001b[0m\u001b[0;34m=\u001b[0m\u001b[0mself\u001b[0m\u001b[0;34m.\u001b[0m\u001b[0mvideo_id\u001b[0m\u001b[0;34m)\u001b[0m\u001b[0;34m\u001b[0m\u001b[0;34m\u001b[0m\u001b[0m\n\u001b[0m\u001b[1;32m    229\u001b[0m             \u001b[0;32melif\u001b[0m \u001b[0mstatus\u001b[0m \u001b[0;34m==\u001b[0m \u001b[0;34m'ERROR'\u001b[0m\u001b[0;34m:\u001b[0m\u001b[0;34m\u001b[0m\u001b[0;34m\u001b[0m\u001b[0m\n\u001b[1;32m    230\u001b[0m                 \u001b[0;32mif\u001b[0m \u001b[0mreason\u001b[0m \u001b[0;34m==\u001b[0m \u001b[0;34m'Video unavailable'\u001b[0m\u001b[0;34m:\u001b[0m\u001b[0;34m\u001b[0m\u001b[0;34m\u001b[0m\u001b[0m\n",
      "\u001b[0;31mVideoPrivate\u001b[0m: jikOPvJPU-c is a private video"
     ]
    }
   ],
   "source": [
    "# Replace the value of the following variable with the path where you would like to \n",
    "#     store the videos.\n",
    "ANETC_VIDEOS_PATH = '/home/A01630791/bmt_clipping_experiments/ActivityNet_Captions_val_set_videos/'\n",
    "\n",
    "\n",
    "links = [\"https://www.youtube.com/watch?v=\" + video_id[2:] for video_id in activitynet_val.keys()]\n",
    "\n",
    "for link in links: \n",
    "    try: \n",
    "        yt = YouTube(link) \n",
    "    except: \n",
    "        print(\"Error: can't instantiate YouTube objects.\") \n",
    "      \n",
    "    filename = re.findall(\"[^=]+$\", link)[0] + '.mp4'\n",
    "    stream = yt.streams.get_highest_resolution()\n",
    "    stream.download(output_path=ANETC_VIDEOS_PATH, filename=filename)\n",
    "\n",
    "print('Download complete.') "
   ]
  },
  {
   "cell_type": "markdown",
   "id": "9b40a23e",
   "metadata": {},
   "source": [
    "## 3. Preparing and pre-analyzing the data\n",
    "\n",
    "We make this previous analysis to have general view of the data in ActivityNet Captions.\n",
    "First, we need to convert the data to an array, so it is easier to work with.\n",
    "The following cell traverses each element in the JSON dataset to reformat them into an array."
   ]
  },
  {
   "cell_type": "code",
   "execution_count": 41,
   "id": "6ec751c3",
   "metadata": {},
   "outputs": [
    {
     "name": "stdout",
     "output_type": "stream",
     "text": [
      "sample: {'duration': 82.73, 'timestamps': [[0.83, 19.86], [17.37, 60.81], [56.26, 79.42]], 'sentences': ['A young woman is seen standing in a room and leads into her dancing.', ' The girl dances around the room while the camera captures her movements.', ' She continues dancing around the room and ends by laying on the floor.'], 'video_id': 'QOlSCBRmfWY', 'dataset_key': 'v_QOlSCBRmfWY'}\n",
      "\n",
      "arr length: 10009\n"
     ]
    }
   ],
   "source": [
    "# Convert 'activitynet_test' to an array of dictionaries\n",
    "activitynet_train_list = []\n",
    "\n",
    "for key in activitynet_train.keys():\n",
    "    obj = activitynet_train[key]\n",
    "    obj['video_id'] = key[2:]\n",
    "    obj['dataset_key'] = key\n",
    "    activitynet_train_list.append(obj)\n",
    "    \n",
    "print('sample:', activitynet_train_list[0])\n",
    "print('\\narr length:', len(activitynet_train_list))"
   ]
  },
  {
   "cell_type": "code",
   "execution_count": 19,
   "id": "ce3a6d03",
   "metadata": {},
   "outputs": [
    {
     "name": "stdout",
     "output_type": "stream",
     "text": [
      "sample: {'duration': 55.15, 'timestamps': [[0.28, 55.15], [13.79, 54.32]], 'sentences': ['A weight lifting tutorial is given.', '  The coach helps the guy in red with the proper body placement and lifting technique.'], 'video_id': 'uqiMw7tQ1Cc', 'dataset_key': 'v_uqiMw7tQ1Cc'}\n",
      "\n",
      "arr length: 4917\n"
     ]
    }
   ],
   "source": [
    "# Convert 'activitynet_val' to an array of dictionaries\n",
    "activitynet_val_list = []\n",
    "\n",
    "for key in activitynet_val.keys():\n",
    "    obj = activitynet_val[key]\n",
    "    obj['video_id'] = key[2:]\n",
    "    obj['dataset_key'] = key\n",
    "    activitynet_val_list.append(obj)\n",
    "    \n",
    "print('sample:', activitynet_val_list[0])\n",
    "print('\\narr length:', len(activitynet_val_list))"
   ]
  },
  {
   "cell_type": "markdown",
   "id": "70528817",
   "metadata": {},
   "source": [
    "### 3.1 Video duration vs. annotations\n",
    "In this part, we want to see the distribution of annotations over different video durations."
   ]
  },
  {
   "cell_type": "markdown",
   "id": "59143978",
   "metadata": {},
   "source": [
    "The following cell plots the video duration vs. no. of annotations in the train set."
   ]
  },
  {
   "cell_type": "code",
   "execution_count": 44,
   "id": "b451a1c3",
   "metadata": {},
   "outputs": [
    {
     "data": {
      "image/png": "[encoded data removed]",
      "text/plain": [
       "<Figure size 640x480 with 1 Axes>"
      ]
     },
     "metadata": {},
     "output_type": "display_data"
    }
   ],
   "source": [
    "# Sort by video duration\n",
    "activitynet_train_sorted_duration = sorted(activitynet_train_list, key=lambda i: i['duration'])\n",
    "\n",
    "# Plot\n",
    "x = [sample['duration'] / 60 for sample in activitynet_train_sorted_duration]\n",
    "y = [len(sample['sentences']) for sample in activitynet_train_sorted_duration]\n",
    "\n",
    "plt.scatter(x, y)\n",
    "\n",
    "plt.xlabel(\"Video duration (minutes)\")\n",
    "plt.ylabel(\"Number of annotations in dataset\")\n",
    "\n",
    "# Save and show\n",
    "#    Replace the following variable with the path used to save the plot\n",
    "PLOT_SAVE_PATH = '/home/A01630791/bmt_clipping_experiments/Plots_4_1/'\n",
    "\n",
    "plt.savefig(f'{PLOT_SAVE_PATH}/3_1_a.png', dpi=300)\n",
    "plt.show()"
   ]
  },
  {
   "cell_type": "markdown",
   "id": "add5daee",
   "metadata": {},
   "source": [
    "The following cell plots the video duration vs. no. of annotations in the validation set."
   ]
  },
  {
   "cell_type": "code",
   "execution_count": 45,
   "id": "6d0c299c",
   "metadata": {},
   "outputs": [
    {
     "data": {
      "image/png": "[encoded data removed]",
      "text/plain": [
       "<Figure size 640x480 with 1 Axes>"
      ]
     },
     "metadata": {},
     "output_type": "display_data"
    }
   ],
   "source": [
    "# Sort by video duration\n",
    "activitynet_val_sorted_duration = sorted(activitynet_val_list, key=lambda i: i['duration'])\n",
    "\n",
    "# Plot\n",
    "x = [sample['duration'] / 60 for sample in activitynet_val_sorted_duration]\n",
    "y = [len(sample['sentences']) for sample in activitynet_val_sorted_duration]\n",
    "\n",
    "plt.scatter(x, y)\n",
    "\n",
    "plt.xlabel(\"Video duration (minutes)\")\n",
    "plt.ylabel(\"Number of annotations in dataset\")\n",
    "\n",
    "# Save and show\n",
    "#    Replace the following variable with the path used to save the plot\n",
    "PLOT_SAVE_PATH = '/home/A01630791/bmt_clipping_experiments/Plots_4_1/'\n",
    "\n",
    "plt.savefig(f'{PLOT_SAVE_PATH}/3_1_b.png', dpi=300)\n",
    "plt.show()"
   ]
  },
  {
   "cell_type": "markdown",
   "id": "3fab19e4",
   "metadata": {},
   "source": [
    "If it is true that a longer video contains a greater amount of events, one could expect a greater number of annotations as well. As we can see in the previous two plots, our expectation is not fulfilled. We observe an irregular distribution."
   ]
  },
  {
   "cell_type": "code",
   "execution_count": null,
   "id": "152a5bc3",
   "metadata": {},
   "outputs": [],
   "source": []
  }
 ],
 "metadata": {
  "kernelspec": {
   "display_name": "bmt-kernel",
   "language": "python",
   "name": "bmt-kernel"
  },
  "language_info": {
   "codemirror_mode": {
    "name": "ipython",
    "version": 3
   },
   "file_extension": ".py",
   "mimetype": "text/x-python",
   "name": "python",
   "nbconvert_exporter": "python",
   "pygments_lexer": "ipython3",
   "version": "3.7.7"
  }
 },
 "nbformat": 4,
 "nbformat_minor": 5
}
