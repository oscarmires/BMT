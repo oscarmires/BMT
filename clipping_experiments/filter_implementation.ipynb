{
 "cells": [
  {
   "cell_type": "markdown",
   "id": "0518015a",
   "metadata": {},
   "source": [
    "# Implementation of the filtering module"
   ]
  },
  {
   "cell_type": "markdown",
   "id": "e38525fc",
   "metadata": {},
   "source": [
    "## 1. Enviornment\n",
    "\n",
    "In the following cell, change assign WD the path to the BMT-Clipping repository. \n",
    "Additionally, assign the path to your environments directory (e.g. where conda stores all directories) to the ENVS_PATH variable."
   ]
  },
  {
   "cell_type": "code",
   "execution_count": 1,
   "id": "c3234f13",
   "metadata": {},
   "outputs": [
    {
     "name": "stdout",
     "output_type": "stream",
     "text": [
      "/home/A01630791/BMT-Clipping\n"
     ]
    }
   ],
   "source": [
    "# Working directory (it must be the repository's root directory)\n",
    "WD = '/home/A01630791/BMT-Clipping'\n",
    "%cd $WD\n",
    "\n",
    "# Environments directory (e.g. anaconda3/envs)\n",
    "ENVS_PATH = '/home/A01630791/anaconda3/envs'"
   ]
  },
  {
   "cell_type": "markdown",
   "id": "260c1159",
   "metadata": {},
   "source": [
    "**Module imports**"
   ]
  },
  {
   "cell_type": "code",
   "execution_count": 2,
   "id": "6ea01c1c",
   "metadata": {},
   "outputs": [],
   "source": [
    "from clipping_modules.filtering import FilteringModule\n",
    "from clipping_modules.clipping import ClippingModule"
   ]
  },
  {
   "cell_type": "markdown",
   "id": "c00295ed",
   "metadata": {},
   "source": [
    "**Other imports**"
   ]
  },
  {
   "cell_type": "code",
   "execution_count": 3,
   "id": "e79c2f8e",
   "metadata": {},
   "outputs": [],
   "source": [
    "import json, re, collections\n",
    "import numpy as np\n",
    "import pandas as pd\n",
    "import matplotlib.pyplot as plt\n",
    "from pytube import YouTube"
   ]
  },
  {
   "cell_type": "markdown",
   "id": "22298cd3",
   "metadata": {},
   "source": [
    "The previous chart displays the number of captions for each video in a subset of 10 videos from LABC after clipping and also after filtering. A plot of the average number captions of subclips for any given video is shown in red. The vidos are sorted from shorter duration (left) to larger duration (right). We note that the videos lose an average of 49.6% of the captions the had before filtering. "
   ]
  },
  {
   "cell_type": "markdown",
   "id": "098f762c",
   "metadata": {},
   "source": [
    "## 2. Filtering"
   ]
  },
  {
   "cell_type": "code",
   "execution_count": 9,
   "id": "6501210b",
   "metadata": {},
   "outputs": [],
   "source": [
    "# filtering module instance\n",
    "fm = FilteringModule()"
   ]
  },
  {
   "cell_type": "code",
   "execution_count": 10,
   "id": "6bb180f4",
   "metadata": {},
   "outputs": [
    {
     "data": {
      "text/plain": [
       "'/home/A01630791/bmt_clipping_experiments/Output_4_5/4_5_bmt_captions_ps_save.json'"
      ]
     },
     "execution_count": 10,
     "metadata": {},
     "output_type": "execute_result"
    }
   ],
   "source": [
    "INPUT_PATH = '/home/A01630791/bmt_clipping_experiments/Output_4_5/4_5_bmt_captions_ps_save.json'\n",
    "INPUT_PATH"
   ]
  },
  {
   "cell_type": "code",
   "execution_count": 11,
   "id": "88db18d7",
   "metadata": {},
   "outputs": [
    {
     "data": {
      "text/plain": [
       "'/home/A01630791/bmt_clipping_experiments/Output_4_5/4_5_filtered_captions_ps.json'"
      ]
     },
     "execution_count": 11,
     "metadata": {},
     "output_type": "execute_result"
    }
   ],
   "source": [
    "OUTPUT_PATH = '/home/A01630791/bmt_clipping_experiments/Output_4_5/4_5_filtered_captions_ps.json'\n",
    "OUTPUT_PATH"
   ]
  },
  {
   "cell_type": "code",
   "execution_count": 12,
   "id": "6171dc6c",
   "metadata": {},
   "outputs": [],
   "source": [
    "# create output file\n",
    "\n",
    "with open(OUTPUT_PATH, 'w') as f:\n",
    "    f.write('[]')"
   ]
  },
  {
   "cell_type": "code",
   "execution_count": 13,
   "id": "055d64b5",
   "metadata": {},
   "outputs": [
    {
     "name": "stdout",
     "output_type": "stream",
     "text": [
      "Filtering video: alF-r5DlERY\n",
      "Filtering video: 69cpDT0rJNM\n",
      "Filtering video: A_aFIpDqRPw\n",
      "Filtering video: HzSkdZzqvT8\n",
      "Filtering video: aZPAKeZe_Vc\n",
      "Filtering video: e4nrthWzflw\n",
      "Filtering video: KI8WzyzQbGE\n",
      "Filtering video: v4hRS2XF5WA\n"
     ]
    }
   ],
   "source": [
    "# filter file\n",
    "fm.filter_file(\n",
    "    input_path=INPUT_PATH,\n",
    "    output_path=OUTPUT_PATH,\n",
    ")"
   ]
  }
 ],
 "metadata": {
  "kernelspec": {
   "display_name": "bmt",
   "language": "python",
   "name": "bmt"
  },
  "language_info": {
   "codemirror_mode": {
    "name": "ipython",
    "version": 3
   },
   "file_extension": ".py",
   "mimetype": "text/x-python",
   "name": "python",
   "nbconvert_exporter": "python",
   "pygments_lexer": "ipython3",
   "version": "3.7.7"
  }
 },
 "nbformat": 4,
 "nbformat_minor": 5
}
