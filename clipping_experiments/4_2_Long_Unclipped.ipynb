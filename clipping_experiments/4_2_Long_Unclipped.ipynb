{
 "cells": [
  {
   "cell_type": "markdown",
   "id": "5df4676d",
   "metadata": {},
   "source": [
    "# Experiment 4.2: Testing the BMT with unclipped videos from LAB"
   ]
  },
  {
   "cell_type": "code",
   "execution_count": null,
   "id": "8a3f8a1e",
   "metadata": {},
   "outputs": [],
   "source": []
  }
 ],
 "metadata": {
  "kernelspec": {
   "display_name": "bmt",
   "language": "python",
   "name": "bmt"
  },
  "language_info": {
   "codemirror_mode": {
    "name": "ipython",
    "version": 3
   },
   "file_extension": ".py",
   "mimetype": "text/x-python",
   "name": "python",
   "nbconvert_exporter": "python",
   "pygments_lexer": "ipython3",
   "version": "3.7.7"
  }
 },
 "nbformat": 4,
 "nbformat_minor": 5
}
